{
 "cells": [
  {
   "cell_type": "code",
   "execution_count": null,
   "metadata": {},
   "outputs": [],
   "source": [
    "# Import Libraries\n",
    "\n",
    "import numpy as np\n",
    "import pandas as pd\n",
    "import matplotlib.pyplot as plt\n",
    "import seaborn as sns\n",
    "\n",
    "# Ignore warnings\n",
    "import warnings\n",
    "warnings.filterwarnings('ignore')\n"
   ]
  },
  {
   "cell_type": "code",
   "execution_count": null,
   "metadata": {},
   "outputs": [],
   "source": [
    "# Load the data\n",
    "data = pd.read_csv('Data/occupation_skills.csv')"
   ]
  },
  {
   "cell_type": "code",
   "execution_count": null,
   "metadata": {},
   "outputs": [],
   "source": [
    "\"\"\" Built an application that will take an occupation as input and return the top 10 skills required for that occupation. \n",
    "The application should also return the top 10 occupations that require the same skill. \n",
    "The application should be able to handle cases where the occupation or skill is not in the dataset.\n",
    "THe application should be able to lookup the occupation and skill by their labels and not  by their URIs.\n",
    "The application should be able to handle cases where the occupation or skill label is not an exact match to the label in the dataset,\n",
    "but matches the altLabel in the dataset.\n",
    "\"\"\"\n",
    "def find_top_skills_for_occupation(occupation_input, data):\n",
    "    # Normalize input and data for case-insensitive matching\n",
    "    occupation_input_normalized = occupation_input.strip().lower()\n",
    "    data['occupationLabel_normalized'] = data['occupationLabel'].str.lower()\n",
    "    data['alt_occupationLabel_normalized'] = data['alt_occupationLabel'].str.lower().str.split('\\n')\n",
    "    \n",
    "    # Attempt to match the input with both the occupationLabel and alt_occupationLabel\n",
    "    # First, check direct matches in occupationLabel\n",
    "    direct_matches = data[data['occupationLabel_normalized'] == occupation_input_normalized]\n",
    "    \n",
    "    # If no direct matches, check for matches in alt_occupationLabel\n",
    "    if direct_matches.empty:\n",
    "        matches = data[data['alt_occupationLabel_normalized'].apply(lambda x: occupation_input_normalized in x)]\n",
    "    else:\n",
    "        matches = direct_matches\n",
    "    \n",
    "    # If no matches found, return message indicating so\n",
    "    if matches.empty:\n",
    "        return f\"No matches found for occupation: {occupation_input}\"\n",
    "    \n",
    "    # Aggregate skills and their frequencies\n",
    "    skills_frequency = matches['skillLabel'].value_counts().head(10)\n",
    "    \n",
    "    # Return the top 10 skills for the occupation\n",
    "    return skills_frequency\n",
    "\n",
    "def find_top_skills_for_occupation_partial_matches(occupation_input, data):\n",
    "    occupation_input_normalized = occupation_input.lower().strip()\n",
    "\n",
    "    # Checking for partial matches in 'occupationLabel' and each element of 'alt_occupationLabel_normalized'\n",
    "    def matches_occupation(row):\n",
    "        if occupation_input_normalized in row['occupationLabel_normalized']:\n",
    "            return True\n",
    "        return any(occupation_input_normalized in alt for alt in row['alt_occupationLabel_normalized'])\n",
    "\n",
    "    filtered_data = data[data.apply(matches_occupation, axis=1)]\n",
    "\n",
    "    if filtered_data.empty:\n",
    "        return f\"No matches found for occupation: {occupation_input}\"\n",
    "\n",
    "    skills_frequency = filtered_data['skillLabel'].value_counts().head(10)\n",
    "    return skills_frequency\n",
    "\n"
   ]
  },
  {
   "cell_type": "code",
   "execution_count": null,
   "metadata": {},
   "outputs": [],
   "source": [
    "# Test Occupation for welder\n",
    "\n",
    "test_occupation = \"welder\"\n"
   ]
  },
  {
   "cell_type": "code",
   "execution_count": null,
   "metadata": {},
   "outputs": [],
   "source": [
    "# Testing Functions\n",
    "find_top_skills_for_occupation(test_occupation, data)"
   ]
  },
  {
   "cell_type": "code",
   "execution_count": null,
   "metadata": {},
   "outputs": [],
   "source": [
    "find_top_skills_for_occupation_partial_matches(test_occupation, data)"
   ]
  }
 ],
 "metadata": {
  "language_info": {
   "name": "python"
  }
 },
 "nbformat": 4,
 "nbformat_minor": 2
}
