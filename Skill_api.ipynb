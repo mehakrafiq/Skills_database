{
 "cells": [
  {
   "cell_type": "code",
   "execution_count": 1,
   "metadata": {},
   "outputs": [],
   "source": [
    "# Import Libraries\n",
    "\n",
    "import numpy as np\n",
    "import pandas as pd\n",
    "import matplotlib.pyplot as plt\n",
    "import seaborn as sns\n",
    "\n",
    "# Ignore warnings\n",
    "import warnings\n",
    "warnings.filterwarnings('ignore')\n"
   ]
  },
  {
   "cell_type": "code",
   "execution_count": 2,
   "metadata": {},
   "outputs": [],
   "source": [
    "# Load the data\n",
    "data = pd.read_csv('Data/occupation_skills.csv')"
   ]
  },
  {
   "cell_type": "code",
   "execution_count": 3,
   "metadata": {},
   "outputs": [],
   "source": [
    "\"\"\" Built an application that will take an occupation as input and return the top 10 skills required for that occupation. \n",
    "The application should also return the top 10 occupations that require the same skill. \n",
    "The application should be able to handle cases where the occupation or skill is not in the dataset.\n",
    "THe application should be able to lookup the occupation and skill by their labels and not  by their URIs.\n",
    "The application should be able to handle cases where the occupation or skill label is not an exact match to the label in the dataset,\n",
    "but matches the altLabel in the dataset.\n",
    "\"\"\"\n",
    "def find_top_skills_for_occupation(occupation_input, data):\n",
    "    # Normalize input and data for case-insensitive matching\n",
    "    occupation_input_normalized = occupation_input.strip().lower()\n",
    "    \n",
    "    # Ensure the alt_occupationLabel_normalized column is a list even if originally NaN\n",
    "    # This adjustment is done inline during the operation that caused the error\n",
    "    data['alt_occupationLabel_normalized'] = data['alt_occupationLabel'].str.lower().str.split('\\n').apply(lambda x: x if isinstance(x, list) else [])\n",
    "    \n",
    "    # Attempt to match the input with both the occupationLabel and alt_occupationLabel\n",
    "    # Check direct matches in occupationLabel\n",
    "    direct_matches = data[data['occupationLabel'].str.lower() == occupation_input_normalized]\n",
    "    \n",
    "    # If no direct matches, check for matches in alt_occupationLabel\n",
    "    if direct_matches.empty:\n",
    "        matches = data[data['alt_occupationLabel_normalized'].apply(lambda x: occupation_input_normalized in x if isinstance(x, list) else False)]\n",
    "    else:\n",
    "        matches = direct_matches\n",
    "    \n",
    "    # If no matches found, run the find_top_skills_for_occupation_partial_matches function\n",
    "    if matches.empty:\n",
    "        return find_top_skills_for_occupation_partial_matches(occupation_input, data)\n",
    "    \n",
    "    # Aggregate skills and their frequencies\n",
    "    skills_frequency = matches['skillLabel'].value_counts().head(10)\n",
    "    \n",
    "    # Return the top 10 skills for the occupation\n",
    "    return skills_frequency\n",
    "\n",
    "\n",
    "def find_top_skills_for_occupation_partial_matches(occupation_input, dataset, min_length=2):\n",
    "    # Local preprocessing within the function\n",
    "    temp_data = dataset.copy()\n",
    "    temp_data['alt_occupationLabel'] = temp_data['alt_occupationLabel'].str.lower().str.split('\\n').apply(lambda x: x if isinstance(x, list) else [])\n",
    "    \n",
    "    occupation_input_normalized = occupation_input.lower().strip()\n",
    "\n",
    "    # Check for partial matches without altering the original dataset structure\n",
    "    def matches_occupation(row):\n",
    "        if occupation_input_normalized in row['occupationLabel'].lower():\n",
    "            return True\n",
    "        return any(occupation_input_normalized in alt for alt in row['alt_occupationLabel'])\n",
    "\n",
    "    filtered_data = temp_data[temp_data.apply(matches_occupation, axis=1)]\n",
    "\n",
    "    # If no matches are found and the occupation_input is longer than min_length, shorten it\n",
    "    if filtered_data.empty:\n",
    "        if len(occupation_input_normalized) > min_length:\n",
    "            # Shorten the occupation_input by removing the last character or last word\n",
    "            # Here, we'll remove the last word for better chances of meaningful matches\n",
    "            shortened_input = ' '.join(occupation_input_normalized.split()[:-1])\n",
    "            if shortened_input:\n",
    "                return find_top_skills_for_occupation_partial_matches(shortened_input, dataset, min_length)\n",
    "            else:\n",
    "                # Call find_occupations_for_skill here with the original input before returning no matches\n",
    "                occupations_result = find_occupations_for_skill(occupation_input, dataset)\n",
    "                if occupations_result == f\"No matches found for skill: {occupation_input}\":\n",
    "                    return \"Match not found\"\n",
    "                return occupations_result\n",
    "        else:\n",
    "            # Call find_occupations_for_skill here with the original input before returning no matches\n",
    "            occupations_result = find_occupations_for_skill(occupation_input, dataset)\n",
    "    \n",
    "    skills_frequency = filtered_data['skillLabel'].value_counts().head(10)\n",
    "    return skills_frequency\n",
    "\n",
    "def find_occupations_for_skill(skill_input, data):\n",
    "    # Copy the data to avoid modifying the original dataframe\n",
    "    temp_data = data.copy()\n",
    "    \n",
    "    # Normalize and preprocess for exact and partial matching\n",
    "    skill_input_normalized = skill_input.lower().strip()\n",
    "    temp_data['skillLabel_normalized'] = temp_data['skillLabel'].str.lower()\n",
    "    temp_data['alt_skillLabel_normalized'] = temp_data['alt_skillLabel'].apply(\n",
    "        lambda x: x.lower().split('\\n') if isinstance(x, str) else []\n",
    "    )\n",
    "    \n",
    "    # First, attempt to find exact matches\n",
    "    direct_matches = temp_data[temp_data['skillLabel_normalized'] == skill_input_normalized]\n",
    "    \n",
    "    if direct_matches.empty:\n",
    "        # If no exact matches, attempt to find matches in alternative labels\n",
    "        matches = temp_data[temp_data['alt_skillLabel_normalized'].apply(\n",
    "            lambda x: skill_input_normalized in x)]\n",
    "    else:\n",
    "        matches = direct_matches\n",
    "    \n",
    "    # If no matches found yet, look for partial matches within skill labels and their alternatives\n",
    "    if matches.empty:\n",
    "        matches = temp_data[\n",
    "            temp_data['skillLabel_normalized'].str.contains(skill_input_normalized) |\n",
    "            temp_data['alt_skillLabel_normalized'].apply(lambda x: any(skill_input_normalized in alt for alt in x))\n",
    "        ]\n",
    "    \n",
    "    if matches.empty:\n",
    "        return f\"No matches found for: {skill_input}\"\n",
    "    \n",
    "    # Aggregate the occupations and count their frequencies\n",
    "    occupations_frequency = matches['occupationLabel'].value_counts().head(10)\n",
    "    \n",
    "    # Return the top 10 occupations requiring the skill\n",
    "    return occupations_frequency\n"
   ]
  },
  {
   "cell_type": "code",
   "execution_count": 4,
   "metadata": {},
   "outputs": [
    {
     "data": {
      "text/plain": [
       "skillLabel\n",
       "cutting technologies                         1\n",
       "manufacturing of steam generators            1\n",
       "perform welding inspection                   1\n",
       "apply preliminary treatment to workpieces    1\n",
       "determine suitability of materials           1\n",
       "assemble metal parts                         1\n",
       "prepare pieces for joining                   1\n",
       "apply soldering techniques                   1\n",
       "operate brazing equipment                    1\n",
       "operate automated process control            1\n",
       "Name: count, dtype: int64"
      ]
     },
     "execution_count": 4,
     "metadata": {},
     "output_type": "execute_result"
    }
   ],
   "source": [
    "# Testing Functions for welder\n",
    "test_occupation = \"welder\"\n",
    "\n",
    "find_top_skills_for_occupation(test_occupation, data)"
   ]
  },
  {
   "cell_type": "code",
   "execution_count": 5,
   "metadata": {},
   "outputs": [
    {
     "data": {
      "text/plain": [
       "skillLabel\n",
       "inspect quality of products              6\n",
       "maintain test equipment                  6\n",
       "use measurement instruments              5\n",
       "quality assurance procedures             4\n",
       "write inspection reports                 4\n",
       "quality standards                        4\n",
       "record test data                         4\n",
       "use testing equipment                    4\n",
       "operate precision measuring equipment    4\n",
       "oversee quality control                  4\n",
       "Name: count, dtype: int64"
      ]
     },
     "execution_count": 5,
     "metadata": {},
     "output_type": "execute_result"
    }
   ],
   "source": [
    "# Testing Functions for partial welder\n",
    "test_occupation_partial = \"qa\"\n",
    "\n",
    "find_top_skills_for_occupation_partial_matches(test_occupation_partial, data)\n"
   ]
  },
  {
   "cell_type": "code",
   "execution_count": 6,
   "metadata": {},
   "outputs": [
    {
     "ename": "ValueError",
     "evalue": "The truth value of a Series is ambiguous. Use a.empty, a.bool(), a.item(), a.any() or a.all().",
     "output_type": "error",
     "traceback": [
      "\u001b[0;31m---------------------------------------------------------------------------\u001b[0m",
      "\u001b[0;31mValueError\u001b[0m                                Traceback (most recent call last)",
      "\u001b[0;32m/var/folders/3c/jwvhwrp929q4btprkhm5jzw80000gn/T/ipykernel_13173/2525789851.py\u001b[0m in \u001b[0;36m?\u001b[0;34m()\u001b[0m\n\u001b[1;32m      1\u001b[0m \u001b[0;31m# Testing for \"Bolt Torquing Technical\"\u001b[0m\u001b[0;34m\u001b[0m\u001b[0;34m\u001b[0m\u001b[0m\n\u001b[1;32m      2\u001b[0m \u001b[0mtest_skill\u001b[0m \u001b[0;34m=\u001b[0m \u001b[0;34m\"Bolt Torquing Technical\"\u001b[0m\u001b[0;34m\u001b[0m\u001b[0;34m\u001b[0m\u001b[0m\n\u001b[0;32m----> 3\u001b[0;31m \u001b[0mfind_top_skills_for_occupation\u001b[0m\u001b[0;34m(\u001b[0m\u001b[0mtest_skill\u001b[0m\u001b[0;34m,\u001b[0m \u001b[0mdata\u001b[0m\u001b[0;34m)\u001b[0m\u001b[0;34m\u001b[0m\u001b[0;34m\u001b[0m\u001b[0m\n\u001b[0m",
      "\u001b[0;32m/var/folders/3c/jwvhwrp929q4btprkhm5jzw80000gn/T/ipykernel_13173/2072399979.py\u001b[0m in \u001b[0;36m?\u001b[0;34m(occupation_input, data)\u001b[0m\n\u001b[1;32m     24\u001b[0m         \u001b[0mmatches\u001b[0m \u001b[0;34m=\u001b[0m \u001b[0mdirect_matches\u001b[0m\u001b[0;34m\u001b[0m\u001b[0;34m\u001b[0m\u001b[0m\n\u001b[1;32m     25\u001b[0m \u001b[0;34m\u001b[0m\u001b[0m\n\u001b[1;32m     26\u001b[0m     \u001b[0;31m# If no matches found, run the find_top_skills_for_occupation_partial_matches function\u001b[0m\u001b[0;34m\u001b[0m\u001b[0;34m\u001b[0m\u001b[0m\n\u001b[1;32m     27\u001b[0m     \u001b[0;32mif\u001b[0m \u001b[0mmatches\u001b[0m\u001b[0;34m.\u001b[0m\u001b[0mempty\u001b[0m\u001b[0;34m:\u001b[0m\u001b[0;34m\u001b[0m\u001b[0;34m\u001b[0m\u001b[0m\n\u001b[0;32m---> 28\u001b[0;31m         \u001b[0;32mreturn\u001b[0m \u001b[0mfind_top_skills_for_occupation_partial_matches\u001b[0m\u001b[0;34m(\u001b[0m\u001b[0moccupation_input\u001b[0m\u001b[0;34m,\u001b[0m \u001b[0mdata\u001b[0m\u001b[0;34m)\u001b[0m\u001b[0;34m\u001b[0m\u001b[0;34m\u001b[0m\u001b[0m\n\u001b[0m\u001b[1;32m     29\u001b[0m \u001b[0;34m\u001b[0m\u001b[0m\n\u001b[1;32m     30\u001b[0m     \u001b[0;31m# Aggregate skills and their frequencies\u001b[0m\u001b[0;34m\u001b[0m\u001b[0;34m\u001b[0m\u001b[0m\n\u001b[1;32m     31\u001b[0m     \u001b[0mskills_frequency\u001b[0m \u001b[0;34m=\u001b[0m \u001b[0mmatches\u001b[0m\u001b[0;34m[\u001b[0m\u001b[0;34m'skillLabel'\u001b[0m\u001b[0;34m]\u001b[0m\u001b[0;34m.\u001b[0m\u001b[0mvalue_counts\u001b[0m\u001b[0;34m(\u001b[0m\u001b[0;34m)\u001b[0m\u001b[0;34m.\u001b[0m\u001b[0mhead\u001b[0m\u001b[0;34m(\u001b[0m\u001b[0;36m10\u001b[0m\u001b[0;34m)\u001b[0m\u001b[0;34m\u001b[0m\u001b[0;34m\u001b[0m\u001b[0m\n",
      "\u001b[0;32m/var/folders/3c/jwvhwrp929q4btprkhm5jzw80000gn/T/ipykernel_13173/2072399979.py\u001b[0m in \u001b[0;36m?\u001b[0;34m(occupation_input, dataset, min_length)\u001b[0m\n\u001b[1;32m     55\u001b[0m             \u001b[0;31m# Shorten the occupation_input by removing the last character or last word\u001b[0m\u001b[0;34m\u001b[0m\u001b[0;34m\u001b[0m\u001b[0m\n\u001b[1;32m     56\u001b[0m             \u001b[0;31m# Here, we'll remove the last word for better chances of meaningful matches\u001b[0m\u001b[0;34m\u001b[0m\u001b[0;34m\u001b[0m\u001b[0m\n\u001b[1;32m     57\u001b[0m             \u001b[0mshortened_input\u001b[0m \u001b[0;34m=\u001b[0m \u001b[0;34m' '\u001b[0m\u001b[0;34m.\u001b[0m\u001b[0mjoin\u001b[0m\u001b[0;34m(\u001b[0m\u001b[0moccupation_input_normalized\u001b[0m\u001b[0;34m.\u001b[0m\u001b[0msplit\u001b[0m\u001b[0;34m(\u001b[0m\u001b[0;34m)\u001b[0m\u001b[0;34m[\u001b[0m\u001b[0;34m:\u001b[0m\u001b[0;34m-\u001b[0m\u001b[0;36m1\u001b[0m\u001b[0;34m]\u001b[0m\u001b[0;34m)\u001b[0m\u001b[0;34m\u001b[0m\u001b[0;34m\u001b[0m\u001b[0m\n\u001b[1;32m     58\u001b[0m             \u001b[0;32mif\u001b[0m \u001b[0mshortened_input\u001b[0m\u001b[0;34m:\u001b[0m\u001b[0;34m\u001b[0m\u001b[0;34m\u001b[0m\u001b[0m\n\u001b[0;32m---> 59\u001b[0;31m                 \u001b[0;32mreturn\u001b[0m \u001b[0mfind_top_skills_for_occupation_partial_matches\u001b[0m\u001b[0;34m(\u001b[0m\u001b[0mshortened_input\u001b[0m\u001b[0;34m,\u001b[0m \u001b[0mdataset\u001b[0m\u001b[0;34m,\u001b[0m \u001b[0mmin_length\u001b[0m\u001b[0;34m)\u001b[0m\u001b[0;34m\u001b[0m\u001b[0;34m\u001b[0m\u001b[0m\n\u001b[0m\u001b[1;32m     60\u001b[0m             \u001b[0;32melse\u001b[0m\u001b[0;34m:\u001b[0m\u001b[0;34m\u001b[0m\u001b[0;34m\u001b[0m\u001b[0m\n\u001b[1;32m     61\u001b[0m                 \u001b[0;31m# Call find_occupations_for_skill here with the original input before returning no matches\u001b[0m\u001b[0;34m\u001b[0m\u001b[0;34m\u001b[0m\u001b[0m\n\u001b[1;32m     62\u001b[0m                 \u001b[0moccupations_result\u001b[0m \u001b[0;34m=\u001b[0m \u001b[0mfind_occupations_for_skill\u001b[0m\u001b[0;34m(\u001b[0m\u001b[0moccupation_input\u001b[0m\u001b[0;34m,\u001b[0m \u001b[0mdataset\u001b[0m\u001b[0;34m)\u001b[0m\u001b[0;34m\u001b[0m\u001b[0;34m\u001b[0m\u001b[0m\n",
      "\u001b[0;32m/var/folders/3c/jwvhwrp929q4btprkhm5jzw80000gn/T/ipykernel_13173/2072399979.py\u001b[0m in \u001b[0;36m?\u001b[0;34m(occupation_input, dataset, min_length)\u001b[0m\n\u001b[1;32m     55\u001b[0m             \u001b[0;31m# Shorten the occupation_input by removing the last character or last word\u001b[0m\u001b[0;34m\u001b[0m\u001b[0;34m\u001b[0m\u001b[0m\n\u001b[1;32m     56\u001b[0m             \u001b[0;31m# Here, we'll remove the last word for better chances of meaningful matches\u001b[0m\u001b[0;34m\u001b[0m\u001b[0;34m\u001b[0m\u001b[0m\n\u001b[1;32m     57\u001b[0m             \u001b[0mshortened_input\u001b[0m \u001b[0;34m=\u001b[0m \u001b[0;34m' '\u001b[0m\u001b[0;34m.\u001b[0m\u001b[0mjoin\u001b[0m\u001b[0;34m(\u001b[0m\u001b[0moccupation_input_normalized\u001b[0m\u001b[0;34m.\u001b[0m\u001b[0msplit\u001b[0m\u001b[0;34m(\u001b[0m\u001b[0;34m)\u001b[0m\u001b[0;34m[\u001b[0m\u001b[0;34m:\u001b[0m\u001b[0;34m-\u001b[0m\u001b[0;36m1\u001b[0m\u001b[0;34m]\u001b[0m\u001b[0;34m)\u001b[0m\u001b[0;34m\u001b[0m\u001b[0;34m\u001b[0m\u001b[0m\n\u001b[1;32m     58\u001b[0m             \u001b[0;32mif\u001b[0m \u001b[0mshortened_input\u001b[0m\u001b[0;34m:\u001b[0m\u001b[0;34m\u001b[0m\u001b[0;34m\u001b[0m\u001b[0m\n\u001b[0;32m---> 59\u001b[0;31m                 \u001b[0;32mreturn\u001b[0m \u001b[0mfind_top_skills_for_occupation_partial_matches\u001b[0m\u001b[0;34m(\u001b[0m\u001b[0mshortened_input\u001b[0m\u001b[0;34m,\u001b[0m \u001b[0mdataset\u001b[0m\u001b[0;34m,\u001b[0m \u001b[0mmin_length\u001b[0m\u001b[0;34m)\u001b[0m\u001b[0;34m\u001b[0m\u001b[0;34m\u001b[0m\u001b[0m\n\u001b[0m\u001b[1;32m     60\u001b[0m             \u001b[0;32melse\u001b[0m\u001b[0;34m:\u001b[0m\u001b[0;34m\u001b[0m\u001b[0;34m\u001b[0m\u001b[0m\n\u001b[1;32m     61\u001b[0m                 \u001b[0;31m# Call find_occupations_for_skill here with the original input before returning no matches\u001b[0m\u001b[0;34m\u001b[0m\u001b[0;34m\u001b[0m\u001b[0m\n\u001b[1;32m     62\u001b[0m                 \u001b[0moccupations_result\u001b[0m \u001b[0;34m=\u001b[0m \u001b[0mfind_occupations_for_skill\u001b[0m\u001b[0;34m(\u001b[0m\u001b[0moccupation_input\u001b[0m\u001b[0;34m,\u001b[0m \u001b[0mdataset\u001b[0m\u001b[0;34m)\u001b[0m\u001b[0;34m\u001b[0m\u001b[0;34m\u001b[0m\u001b[0m\n",
      "\u001b[0;32m/var/folders/3c/jwvhwrp929q4btprkhm5jzw80000gn/T/ipykernel_13173/2072399979.py\u001b[0m in \u001b[0;36m?\u001b[0;34m(occupation_input, dataset, min_length)\u001b[0m\n\u001b[1;32m     59\u001b[0m                 \u001b[0;32mreturn\u001b[0m \u001b[0mfind_top_skills_for_occupation_partial_matches\u001b[0m\u001b[0;34m(\u001b[0m\u001b[0mshortened_input\u001b[0m\u001b[0;34m,\u001b[0m \u001b[0mdataset\u001b[0m\u001b[0;34m,\u001b[0m \u001b[0mmin_length\u001b[0m\u001b[0;34m)\u001b[0m\u001b[0;34m\u001b[0m\u001b[0;34m\u001b[0m\u001b[0m\n\u001b[1;32m     60\u001b[0m             \u001b[0;32melse\u001b[0m\u001b[0;34m:\u001b[0m\u001b[0;34m\u001b[0m\u001b[0;34m\u001b[0m\u001b[0m\n\u001b[1;32m     61\u001b[0m                 \u001b[0;31m# Call find_occupations_for_skill here with the original input before returning no matches\u001b[0m\u001b[0;34m\u001b[0m\u001b[0;34m\u001b[0m\u001b[0m\n\u001b[1;32m     62\u001b[0m                 \u001b[0moccupations_result\u001b[0m \u001b[0;34m=\u001b[0m \u001b[0mfind_occupations_for_skill\u001b[0m\u001b[0;34m(\u001b[0m\u001b[0moccupation_input\u001b[0m\u001b[0;34m,\u001b[0m \u001b[0mdataset\u001b[0m\u001b[0;34m)\u001b[0m\u001b[0;34m\u001b[0m\u001b[0;34m\u001b[0m\u001b[0m\n\u001b[0;32m---> 63\u001b[0;31m                 \u001b[0;32mif\u001b[0m \u001b[0moccupations_result\u001b[0m \u001b[0;34m==\u001b[0m \u001b[0;34mf\"No matches found for skill: {occupation_input}\"\u001b[0m\u001b[0;34m:\u001b[0m\u001b[0;34m\u001b[0m\u001b[0;34m\u001b[0m\u001b[0m\n\u001b[0m\u001b[1;32m     64\u001b[0m                     \u001b[0;32mreturn\u001b[0m \u001b[0;34m\"Match not found\"\u001b[0m\u001b[0;34m\u001b[0m\u001b[0;34m\u001b[0m\u001b[0m\n\u001b[1;32m     65\u001b[0m                 \u001b[0;32mreturn\u001b[0m \u001b[0moccupations_result\u001b[0m\u001b[0;34m\u001b[0m\u001b[0;34m\u001b[0m\u001b[0m\n\u001b[1;32m     66\u001b[0m         \u001b[0;32melse\u001b[0m\u001b[0;34m:\u001b[0m\u001b[0;34m\u001b[0m\u001b[0;34m\u001b[0m\u001b[0m\n",
      "\u001b[0;32m/opt/miniconda3/envs/Databases/lib/python3.11/site-packages/pandas/core/generic.py\u001b[0m in \u001b[0;36m?\u001b[0;34m(self)\u001b[0m\n\u001b[1;32m   1574\u001b[0m     \u001b[0;34m@\u001b[0m\u001b[0mfinal\u001b[0m\u001b[0;34m\u001b[0m\u001b[0;34m\u001b[0m\u001b[0m\n\u001b[1;32m   1575\u001b[0m     \u001b[0;32mdef\u001b[0m \u001b[0m__nonzero__\u001b[0m\u001b[0;34m(\u001b[0m\u001b[0mself\u001b[0m\u001b[0;34m)\u001b[0m \u001b[0;34m->\u001b[0m \u001b[0mNoReturn\u001b[0m\u001b[0;34m:\u001b[0m\u001b[0;34m\u001b[0m\u001b[0;34m\u001b[0m\u001b[0m\n\u001b[0;32m-> 1576\u001b[0;31m         raise ValueError(\n\u001b[0m\u001b[1;32m   1577\u001b[0m             \u001b[0;34mf\"The truth value of a {type(self).__name__} is ambiguous. \"\u001b[0m\u001b[0;34m\u001b[0m\u001b[0;34m\u001b[0m\u001b[0m\n\u001b[1;32m   1578\u001b[0m             \u001b[0;34m\"Use a.empty, a.bool(), a.item(), a.any() or a.all().\"\u001b[0m\u001b[0;34m\u001b[0m\u001b[0;34m\u001b[0m\u001b[0m\n\u001b[1;32m   1579\u001b[0m         )\n",
      "\u001b[0;31mValueError\u001b[0m: The truth value of a Series is ambiguous. Use a.empty, a.bool(), a.item(), a.any() or a.all()."
     ]
    }
   ],
   "source": [
    "# Testing for \"Bolt Torquing Technical\"\n",
    "test_skill = \"Bolt Torquing Technical\"\n",
    "find_top_skills_for_occupation(test_skill, data)"
   ]
  },
  {
   "cell_type": "code",
   "execution_count": null,
   "metadata": {},
   "outputs": [],
   "source": [
    "# def find_occupations_for_skill(skill_input, data):\n",
    "#     # Copy the data to avoid modifying the original dataframe\n",
    "#     temp_data = data.copy()\n",
    "    \n",
    "#     # Normalize and preprocess for exact and partial matching\n",
    "#     skill_input_normalized = skill_input.lower().strip()\n",
    "#     temp_data['skillLabel_normalized'] = temp_data['skillLabel'].str.lower()\n",
    "#     temp_data['alt_skillLabel_normalized'] = temp_data['alt_skillLabel'].apply(\n",
    "#         lambda x: x.lower().split('\\n') if isinstance(x, str) else []\n",
    "#     )\n",
    "    \n",
    "#     # First, attempt to find exact matches\n",
    "#     direct_matches = temp_data[temp_data['skillLabel_normalized'] == skill_input_normalized]\n",
    "    \n",
    "#     if direct_matches.empty:\n",
    "#         # If no exact matches, attempt to find matches in alternative labels\n",
    "#         matches = temp_data[temp_data['alt_skillLabel_normalized'].apply(\n",
    "#             lambda x: skill_input_normalized in x)]\n",
    "#     else:\n",
    "#         matches = direct_matches\n",
    "    \n",
    "#     # If no matches found yet, look for partial matches within skill labels and their alternatives\n",
    "#     if matches.empty:\n",
    "#         matches = temp_data[\n",
    "#             temp_data['skillLabel_normalized'].str.contains(skill_input_normalized) |\n",
    "#             temp_data['alt_skillLabel_normalized'].apply(lambda x: any(skill_input_normalized in alt for alt in x))\n",
    "#         ]\n",
    "    \n",
    "#     if matches.empty:\n",
    "#         return f\"No matches found for skill: {skill_input}\"\n",
    "    \n",
    "#     # Aggregate the occupations and count their frequencies\n",
    "#     occupations_frequency = matches['occupationLabel'].value_counts().head(10)\n",
    "    \n",
    "#     # Return the top 10 occupations requiring the skill\n",
    "#     return occupations_frequency"
   ]
  },
  {
   "cell_type": "code",
   "execution_count": null,
   "metadata": {},
   "outputs": [],
   "source": [
    "# Testing function for skill \"welding\"\n",
    "test_skill = \"Bolt Torquing Technical\"\n",
    "\n",
    "find_occupations_for_skill(test_skill, data)\n"
   ]
  },
  {
   "cell_type": "code",
   "execution_count": null,
   "metadata": {},
   "outputs": [],
   "source": [
    "# Load test data\n",
    "test_data = pd.read_csv('Test_occupations.csv')\n",
    "test_data.head()"
   ]
  },
  {
   "cell_type": "code",
   "execution_count": null,
   "metadata": {},
   "outputs": [],
   "source": [
    "# Search for top skills for each job_title in the test data one by one and print results\n",
    "for occupation in test_data['Occupations']:\n",
    "    test_title = occupation\n",
    "    print(f\"Top skills for {test_title}:\")\n",
    "    print(find_top_skills_for_occupation(test_title, data))\n",
    "    print(\"\\n\")\n",
    "    "
   ]
  },
  {
   "cell_type": "code",
   "execution_count": null,
   "metadata": {},
   "outputs": [],
   "source": []
  }
 ],
 "metadata": {
  "kernelspec": {
   "display_name": "Databases",
   "language": "python",
   "name": "python3"
  },
  "language_info": {
   "codemirror_mode": {
    "name": "ipython",
    "version": 3
   },
   "file_extension": ".py",
   "mimetype": "text/x-python",
   "name": "python",
   "nbconvert_exporter": "python",
   "pygments_lexer": "ipython3",
   "version": "3.11.8"
  }
 },
 "nbformat": 4,
 "nbformat_minor": 2
}
