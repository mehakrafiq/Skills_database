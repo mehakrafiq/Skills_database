{
 "cells": [
  {
   "cell_type": "code",
   "execution_count": 1,
   "metadata": {},
   "outputs": [],
   "source": [
    "# Import Libraries\n",
    "\n",
    "import numpy as np\n",
    "import pandas as pd\n",
    "import matplotlib.pyplot as plt\n",
    "import seaborn as sns\n",
    "\n",
    "# Ignore warnings\n",
    "import warnings\n",
    "warnings.filterwarnings('ignore')\n"
   ]
  },
  {
   "cell_type": "code",
   "execution_count": 2,
   "metadata": {},
   "outputs": [],
   "source": [
    "# Load the data\n",
    "data = pd.read_csv('Data/occupation_skills.csv')"
   ]
  },
  {
   "cell_type": "code",
   "execution_count": 3,
   "metadata": {},
   "outputs": [],
   "source": [
    "\"\"\" Built an application that will take an occupation as input and return the top 10 skills required for that occupation. \n",
    "The application should also return the top 10 occupations that require the same skill. \n",
    "The application should be able to handle cases where the occupation or skill is not in the dataset.\n",
    "THe application should be able to lookup the occupation and skill by their labels and not  by their URIs.\n",
    "The application should be able to handle cases where the occupation or skill label is not an exact match to the label in the dataset,\n",
    "but matches the altLabel in the dataset.\n",
    "\"\"\"\n",
    "def find_top_skills_for_occupation(occupation_input, data):\n",
    "    # Normalize input and data for case-insensitive matching\n",
    "    occupation_input_normalized = occupation_input.strip().lower()\n",
    "    data['occupationLabel_normalized'] = data['occupationLabel'].str.lower()\n",
    "    data['alt_occupationLabel_normalized'] = data['alt_occupationLabel'].str.lower().str.split('\\n')\n",
    "    \n",
    "    # Attempt to match the input with both the occupationLabel and alt_occupationLabel\n",
    "    # First, check direct matches in occupationLabel\n",
    "    direct_matches = data[data['occupationLabel_normalized'] == occupation_input_normalized]\n",
    "    \n",
    "    # If no direct matches, check for matches in alt_occupationLabel\n",
    "    if direct_matches.empty:\n",
    "        matches = data[data['alt_occupationLabel_normalized'].apply(lambda x: occupation_input_normalized in x)]\n",
    "    else:\n",
    "        matches = direct_matches\n",
    "    \n",
    "    # If no matches found, run the find_top_skills_for_occupation_partial_matches function\n",
    "    if matches.empty:\n",
    "        return find_top_skills_for_occupation_partial_matches(occupation_input, data)\n",
    "    \n",
    "    # Aggregate skills and their frequencies\n",
    "    skills_frequency = matches['skillLabel'].value_counts().head(10)\n",
    "    \n",
    "    # Return the top 10 skills for the occupation\n",
    "    return skills_frequency\n",
    "\n",
    "\n",
    "\n",
    "def find_top_skills_for_occupation_partial_matches(occupation_input, dataset):\n",
    "    # Local preprocessing within the function\n",
    "    # Ensure 'alt_occupationLabel' is treated as a list of strings for each row\n",
    "    temp_data = dataset.copy()\n",
    "    temp_data['alt_occupationLabel'] = temp_data['alt_occupationLabel'].str.lower().str.split('\\n').apply(lambda x: x if isinstance(x, list) else [])\n",
    "    \n",
    "    occupation_input_normalized = occupation_input.lower().strip()\n",
    "\n",
    "    # Check for partial matches without altering the original dataset structure\n",
    "    def matches_occupation(row):\n",
    "        if occupation_input_normalized in row['occupationLabel'].lower():\n",
    "            return True\n",
    "        return any(occupation_input_normalized in alt for alt in row['alt_occupationLabel'])\n",
    "\n",
    "    filtered_data = temp_data[temp_data.apply(matches_occupation, axis=1)]\n",
    "\n",
    "    if filtered_data.empty:\n",
    "        return f\"No matches found for occupation: {occupation_input}\"\n",
    "\n",
    "    skills_frequency = filtered_data['skillLabel'].value_counts().head(10)\n",
    "    return skills_frequency\n",
    "\n"
   ]
  },
  {
   "cell_type": "code",
   "execution_count": 4,
   "metadata": {},
   "outputs": [
    {
     "data": {
      "text/plain": [
       "skillLabel\n",
       "cutting technologies                         1\n",
       "manufacturing of steam generators            1\n",
       "perform welding inspection                   1\n",
       "apply preliminary treatment to workpieces    1\n",
       "determine suitability of materials           1\n",
       "assemble metal parts                         1\n",
       "prepare pieces for joining                   1\n",
       "apply soldering techniques                   1\n",
       "operate brazing equipment                    1\n",
       "operate automated process control            1\n",
       "Name: count, dtype: int64"
      ]
     },
     "execution_count": 4,
     "metadata": {},
     "output_type": "execute_result"
    }
   ],
   "source": [
    "# Testing Functions for welder\n",
    "test_occupation = \"welder\"\n",
    "\n",
    "find_top_skills_for_occupation(test_occupation, data)"
   ]
  },
  {
   "cell_type": "code",
   "execution_count": 5,
   "metadata": {},
   "outputs": [
    {
     "data": {
      "text/plain": [
       "skillLabel\n",
       "keep records of work progress       13\n",
       "types of metal                      12\n",
       "perform test run                    10\n",
       "ferrous metal processing            10\n",
       "quality standards                    9\n",
       "spot metal imperfections             9\n",
       "wear appropriate protective gear     9\n",
       "ensure equipment availability        9\n",
       "operate soldering equipment          9\n",
       "consult technical resources          9\n",
       "Name: count, dtype: int64"
      ]
     },
     "execution_count": 5,
     "metadata": {},
     "output_type": "execute_result"
    }
   ],
   "source": [
    "# Testing Functions for partial welder\n",
    "test_occupation_partial = \"weld\"\n",
    "\n",
    "find_top_skills_for_occupation_partial_matches(test_occupation_partial, data)\n"
   ]
  },
  {
   "cell_type": "code",
   "execution_count": null,
   "metadata": {},
   "outputs": [],
   "source": []
  }
 ],
 "metadata": {
  "kernelspec": {
   "display_name": "Databases",
   "language": "python",
   "name": "python3"
  },
  "language_info": {
   "codemirror_mode": {
    "name": "ipython",
    "version": 3
   },
   "file_extension": ".py",
   "mimetype": "text/x-python",
   "name": "python",
   "nbconvert_exporter": "python",
   "pygments_lexer": "ipython3",
   "version": "3.11.8"
  }
 },
 "nbformat": 4,
 "nbformat_minor": 2
}
